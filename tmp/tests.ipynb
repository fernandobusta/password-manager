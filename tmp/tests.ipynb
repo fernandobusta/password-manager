{
 "cells": [
  {
   "cell_type": "code",
   "execution_count": 35,
   "id": "2decc74a-ae9d-48e4-8c22-a3020b00024a",
   "metadata": {},
   "outputs": [],
   "source": [
    "letter_for_n = {\n",
    "\t'a': 4, \n",
    "\t'b': 5, \n",
    "\t'c': 7, \n",
    "\t'ç': 766,\n",
    "\t'd': 11, \n",
    "\t'e': 45, \n",
    "\t'f': 65, \n",
    "\t'g': 6, \n",
    "\t'h': 34, \n",
    "\t'i': 35, \n",
    "\t'j': 38, \n",
    "\t'k': 102, \n",
    "\t'l': 90, \n",
    "\t'm': 44, \n",
    "\t'n': 66,\n",
    "\t'ñ': 970, \n",
    "\t'o': 89, \n",
    "\t'p': 12, \n",
    "\t'q': 43, \n",
    "\t'r': 23, \n",
    "\t's': 26, \n",
    "\t't': 93, \n",
    "\t'u': 75, \n",
    "\t'v': 29, \n",
    "\t'w': 1, \n",
    "\t'x': 0, \n",
    "\t'y': 59, \n",
    "\t'z': 2\n",
    "}"
   ]
  },
  {
   "cell_type": "code",
   "execution_count": 36,
   "id": "fb74ed74-129a-40a1-9b0d-8968415e3df5",
   "metadata": {},
   "outputs": [],
   "source": [
    "n_for_letter = {\n",
    "\t1 : 'h',\n",
    "\t2 : 't',\n",
    "\t3 : 'yuy',\n",
    "\t4 : 'cap',\n",
    "\t5 : 'me',\n",
    "\t6 : 'go',\n",
    "\t7 : 'rt',\n",
    "\t8 : 'fo',\n",
    "\t9 : 'siuu',\n",
    "\t0 : 'que'\n",
    "}"
   ]
  },
  {
   "cell_type": "code",
   "execution_count": 37,
   "id": "74a678e8-1103-41a6-af93-623894571131",
   "metadata": {},
   "outputs": [],
   "source": [
    "def encode(pwd):\n",
    "\t# Give the pwd and does the operation,\n",
    "\t# aka encodes the string\n",
    "\tencoded = []\n",
    "\n",
    "\t# pwd is a string\n",
    "\tfor i in pwd.strip():\n",
    "\n",
    "\t\t# Turn upper case letter into an int\n",
    "\t\t# with '_' in front\n",
    "\t\tif i.isalpha() and i.isupper():\n",
    "\t\t\tfor k, v in letter_for_n.items():\n",
    "\t\t\t\tif i.lower() == k:\n",
    "\t\t\t\t\t# '_n' where n is an int\n",
    "\t\t\t\t\tencoded.append(f'_{str(v)}')\n",
    "\t\t\t\t\tbreak\n",
    "\n",
    "\t\t# Turn lower case letter into an int\n",
    "\t\telif i.isalpha() and i.islower():\n",
    "\t\t\tfor k, v in letter_for_n.items():\n",
    "\t\t\t\tif i == k:\n",
    "\t\t\t\t\tencoded.append(str(v))\n",
    "\t\t\t\t\tbreak\n",
    "\n",
    "\t\t# Turn int into a seq of letters\n",
    "\t\telif i.isdigit():\n",
    "\t\t\tfor k, v in n_for_letter.items():\n",
    "\t\t\t\tif int(i) == k:\n",
    "\t\t\t\t\tencoded.append(v)\n",
    "\t\t\t\t\tbreak\n",
    "\n",
    "\t\t# i is a sign or another ch\n",
    "\t\telse:\n",
    "\t\t\t# and we don't change it\n",
    "\t\t\tencoded.append(i)\n",
    "\n",
    "\t# Returns a list to store in DB\n",
    "\treturn encoded"
   ]
  },
  {
   "cell_type": "code",
   "execution_count": 38,
   "id": "968d61d5-fec2-4907-9645-3a76ce00f26d",
   "metadata": {},
   "outputs": [],
   "source": [
    "def decode(encoded_pwd):\n",
    "\t# Give the pwd encoded and does the operation,\n",
    "\t# Aka decodes the string\n",
    "\tdecoded = []\n",
    "\n",
    "\t# encoded_pwd is a list\n",
    "\tfor i in encoded_pwd:\n",
    "\t\t\n",
    "\t\t# Checking to see if it is a capital letter\n",
    "\t\t# Aka: '_n', where n is an int\n",
    "\t\tif len(i) > 1 and i[0] == '_':\n",
    "\t\t\t# Extracting the number\n",
    "\t\t\tn = int(i[1:])\n",
    "\t\t\tfor k,v in letter_for_n.items():\n",
    "\t\t\t\tif n == v:\n",
    "\t\t\t\t\tdecoded.append(k.upper())\n",
    "\t\t\t\t\tbreak\n",
    "\n",
    "\t\t# Turn i into a lower case letter\n",
    "\t\telif i.isdigit():\n",
    "\t\t\tfor k, v in letter_for_n.items():\n",
    "\t\t\t\tif int(i) == v:\n",
    "\t\t\t\t\tdecoded.append(k)\n",
    "\t\t\t\t\tbreak\n",
    "\n",
    "\t\t# Turn i into a number\n",
    "\t\telif i.isalpha():\n",
    "\t\t\tfor k, v in n_for_letter.items():\n",
    "\t\t\t\tif i == v:\n",
    "\t\t\t\t\tdecoded.append(str(k))\n",
    "\t\t\t\t\tbreak\n",
    "\n",
    "\t\t# Leave i as it is, aka a sign\n",
    "\t\telse:\n",
    "\t\t\tdecoded.append(i)\n",
    "\n",
    "\t# Return a string for the GUI to display\n",
    "\tpwd = ''.join(decoded)\n",
    "\treturn pwd"
   ]
  },
  {
   "cell_type": "code",
   "execution_count": 39,
   "id": "a8f898f1-d508-40aa-bd60-01f33d3c562b",
   "metadata": {},
   "outputs": [],
   "source": [
    "pwd = 'Fali46m@T0_ç'"
   ]
  },
  {
   "cell_type": "code",
   "execution_count": 40,
   "id": "fc6654f3-f7c7-4b99-a15e-4ad598e4d596",
   "metadata": {},
   "outputs": [],
   "source": [
    "encoded = encode(pwd)"
   ]
  },
  {
   "cell_type": "code",
   "execution_count": 41,
   "id": "0925d4b3-63cd-4eb6-8d45-d85f041d06bd",
   "metadata": {},
   "outputs": [
    {
     "data": {
      "text/plain": [
       "'Fali46m@T0_ç'"
      ]
     },
     "execution_count": 41,
     "metadata": {},
     "output_type": "execute_result"
    }
   ],
   "source": [
    "pwd"
   ]
  },
  {
   "cell_type": "code",
   "execution_count": 42,
   "id": "342aa2c9-f9c5-4366-b04a-bf1937d23d26",
   "metadata": {},
   "outputs": [
    {
     "data": {
      "text/plain": [
       "['_65', '4', '90', '35', 'cap', 'go', '44', '@', '_93', 'que', '_', '766']"
      ]
     },
     "execution_count": 42,
     "metadata": {},
     "output_type": "execute_result"
    }
   ],
   "source": [
    "encoded"
   ]
  },
  {
   "cell_type": "code",
   "execution_count": 43,
   "id": "0dea63a1-1123-4cb1-8778-213696790d0b",
   "metadata": {},
   "outputs": [
    {
     "data": {
      "text/plain": [
       "False"
      ]
     },
     "execution_count": 43,
     "metadata": {},
     "output_type": "execute_result"
    }
   ],
   "source": [
    "len(pwd) == encoded"
   ]
  },
  {
   "cell_type": "code",
   "execution_count": 44,
   "id": "c80e7f5a-a4e4-4399-b0f8-dc7b1383e147",
   "metadata": {},
   "outputs": [
    {
     "data": {
      "text/plain": [
       "12"
      ]
     },
     "execution_count": 44,
     "metadata": {},
     "output_type": "execute_result"
    }
   ],
   "source": [
    "len(pwd)\n",
    "len(encoded)"
   ]
  },
  {
   "cell_type": "code",
   "execution_count": 45,
   "id": "a1bb43a0-8729-4374-aef7-40c8daec66b6",
   "metadata": {},
   "outputs": [
    {
     "data": {
      "text/plain": [
       "12"
      ]
     },
     "execution_count": 45,
     "metadata": {},
     "output_type": "execute_result"
    }
   ],
   "source": [
    "len(pwd)"
   ]
  },
  {
   "cell_type": "code",
   "execution_count": 46,
   "id": "05f3631c-9d01-4293-894c-0ab0a90b0df2",
   "metadata": {},
   "outputs": [],
   "source": [
    "new_pwd = decode(encoded)"
   ]
  },
  {
   "cell_type": "code",
   "execution_count": 47,
   "id": "3c7d0f84-083a-4f8d-aa49-288a95e3cdee",
   "metadata": {},
   "outputs": [
    {
     "data": {
      "text/plain": [
       "'Fali46m@T0_ç'"
      ]
     },
     "execution_count": 47,
     "metadata": {},
     "output_type": "execute_result"
    }
   ],
   "source": [
    "new_pwd"
   ]
  },
  {
   "cell_type": "code",
   "execution_count": 48,
   "id": "a74ea42e-baec-4d51-a855-342e43228ecc",
   "metadata": {},
   "outputs": [
    {
     "data": {
      "text/plain": [
       "True"
      ]
     },
     "execution_count": 48,
     "metadata": {},
     "output_type": "execute_result"
    }
   ],
   "source": [
    "'ç'.isalpha()"
   ]
  },
  {
   "cell_type": "code",
   "execution_count": 49,
   "id": "5c352bbd-4b77-42da-ae2a-844c85b1a4e8",
   "metadata": {},
   "outputs": [],
   "source": [
    "v = 'COMETE1pestiño$_'"
   ]
  },
  {
   "cell_type": "code",
   "execution_count": 50,
   "id": "233b7083-129e-4bce-8b34-84cd08a4182f",
   "metadata": {},
   "outputs": [],
   "source": [
    "pwd_enc = encode(v)"
   ]
  },
  {
   "cell_type": "code",
   "execution_count": 51,
   "id": "5b47da54-ed36-4d55-97ab-02915b6f9efc",
   "metadata": {},
   "outputs": [
    {
     "data": {
      "text/plain": [
       "'COMETE1pestiño$_'"
      ]
     },
     "execution_count": 51,
     "metadata": {},
     "output_type": "execute_result"
    }
   ],
   "source": [
    "v"
   ]
  },
  {
   "cell_type": "code",
   "execution_count": 52,
   "id": "6f0589be-3aa9-480b-b8fd-9db43321d991",
   "metadata": {},
   "outputs": [
    {
     "data": {
      "text/plain": [
       "['_7',\n",
       " '_89',\n",
       " '_44',\n",
       " '_45',\n",
       " '_93',\n",
       " '_45',\n",
       " 'h',\n",
       " '12',\n",
       " '45',\n",
       " '26',\n",
       " '93',\n",
       " '35',\n",
       " '970',\n",
       " '89',\n",
       " '$',\n",
       " '_']"
      ]
     },
     "execution_count": 52,
     "metadata": {},
     "output_type": "execute_result"
    }
   ],
   "source": [
    "pwd_enc"
   ]
  },
  {
   "cell_type": "code",
   "execution_count": 54,
   "id": "7ea1ce51-f3f1-4a6c-bf4d-a23cb6c2e3ce",
   "metadata": {},
   "outputs": [
    {
     "data": {
      "text/plain": [
       "'_7_89_44_45_93_45h124526933597089$_'"
      ]
     },
     "execution_count": 54,
     "metadata": {},
     "output_type": "execute_result"
    }
   ],
   "source": [
    "''.join(pwd_enc)"
   ]
  },
  {
   "cell_type": "code",
   "execution_count": 55,
   "id": "306fa9c0-7f15-4dc3-a0d9-46dd77bb4e26",
   "metadata": {},
   "outputs": [],
   "source": [
    "pwd_new = decode(pwd_enc)"
   ]
  },
  {
   "cell_type": "code",
   "execution_count": 56,
   "id": "211e9fec-9363-4bde-a034-2036adb849af",
   "metadata": {},
   "outputs": [
    {
     "data": {
      "text/plain": [
       "'COMETE1pestiño$_'"
      ]
     },
     "execution_count": 56,
     "metadata": {},
     "output_type": "execute_result"
    }
   ],
   "source": [
    "pwd_new"
   ]
  },
  {
   "cell_type": "code",
   "execution_count": 2,
   "id": "2d6f51a0-8d43-4353-831e-9d92b1579b7d",
   "metadata": {},
   "outputs": [],
   "source": [
    "def getL():\n",
    "    # Capital letter will get \"__\" appended a the beginning of the hash\n",
    "    ltoh = {\n",
    "        'a': '#sdf4',\n",
    "        'b': 'sd58',\n",
    "        'c': '78jyt',\n",
    "        'ç': '76tr6',\n",
    "        'd': '1rt?1',\n",
    "        'e': '45',\n",
    "        'f': '6e3:.5',\n",
    "        'g': '6rf?+',\n",
    "        'h': '3sd54',\n",
    "        'i': '35465',\n",
    "        'j': '38=0',\n",
    "        'k': '10sdf)2',\n",
    "        'l': '90sf}',\n",
    "        'm': '44fd==',\n",
    "        'n': 'ds&&66',\n",
    "        'ñ': '97s0',\n",
    "        'o': 'dgfds',\n",
    "        'p': '12',\n",
    "        'q': '43',\n",
    "        'r': '2)))3',\n",
    "        's': '2scsd6',\n",
    "        't': '9343@',\n",
    "        'u': '75##',\n",
    "        'v': '2ews9',\n",
    "        'w': '1@$$',\n",
    "        'x': '0',\n",
    "        'y': '59wef',\n",
    "        'z': 'dewffsdf2',\n",
    "    }"
   ]
  },
  {
   "cell_type": "code",
   "execution_count": 3,
   "id": "f7895882",
   "metadata": {},
   "outputs": [
    {
     "name": "stdout",
     "output_type": "stream",
     "text": [
      "absd77\n"
     ]
    }
   ],
   "source": [
    "print(\"absd77\")"
   ]
  },
  {
   "cell_type": "code",
   "execution_count": 4,
   "id": "b421d250",
   "metadata": {},
   "outputs": [],
   "source": [
    "ltoh = {\n",
    "        'a': '#sdf4',\n",
    "        'b': 'sd58',\n",
    "        'c': '78jyt',\n",
    "        'ç': '76tr6',\n",
    "        'd': '1rt?1',\n",
    "        'e': '45',\n",
    "        'f': '6e3:.5',\n",
    "        'g': '6rf?+',\n",
    "        'h': '3sd54',\n",
    "        'i': '35465',\n",
    "        'j': '38=0',\n",
    "        'k': '10sdf)2',\n",
    "        'l': '90sf}',\n",
    "        'm': '44fd==',\n",
    "        'n': 'ds&&66',\n",
    "        'ñ': '97s0',\n",
    "        'o': 'dgfds',\n",
    "        'p': '12',\n",
    "        'q': '43',\n",
    "        'r': '2)))3',\n",
    "        's': '2scsd6',\n",
    "        't': '9343@',\n",
    "        'u': '75##',\n",
    "        'v': '2ews9',\n",
    "        'w': '1@$$',\n",
    "        'x': '0',\n",
    "        'y': '59wef',\n",
    "        'z': 'dewffsdf2',\n",
    "    }"
   ]
  },
  {
   "cell_type": "code",
   "execution_count": 26,
   "id": "9faa2765",
   "metadata": {},
   "outputs": [
    {
     "name": "stdout",
     "output_type": "stream",
     "text": [
      "True\n",
      "True\n",
      "False\n"
     ]
    }
   ],
   "source": [
    "a = ['b', 'r', '0']\n",
    "for ch in a:\n",
    "    #print(ch in ltoh.values())\n",
    "    print(ch in ltoh)"
   ]
  },
  {
   "cell_type": "code",
   "execution_count": 17,
   "id": "d8bd0605",
   "metadata": {},
   "outputs": [
    {
     "name": "stdout",
     "output_type": "stream",
     "text": [
      "<dict_reversekeyiterator object at 0x10a582f90>\n"
     ]
    }
   ],
   "source": [
    "print(ltoh.__reversed__())"
   ]
  },
  {
   "cell_type": "code",
   "execution_count": 23,
   "id": "3b75dc74",
   "metadata": {},
   "outputs": [
    {
     "data": {
      "text/plain": [
       "{'2kj35bt': '!',\n",
       " 'wfhb32+': '|',\n",
       " 'sdfdv24': '\"',\n",
       " '/(HJON': '@',\n",
       " 'sdfdsvLLLLsdlf': '·',\n",
       " 'dsfsfd%&/()': '#',\n",
       " 'dssdf)))p': 'ı',\n",
       " 'sdfsd¿¿¿¿': '˝',\n",
       " 'dfsdf//86': '•',\n",
       " 'fdgdfgll23': '£',\n",
       " 'sd44343': '$',\n",
       " 'xcvpp`**': '¢',\n",
       " '&&/%()': '%',\n",
       " 'dsfds%&/()': '∞',\n",
       " 'sadsadasq': '‰',\n",
       " 'dsadaw': '&',\n",
       " '345345345': '¬',\n",
       " 'sds¿¿¿¿???': '/',\n",
       " 'AAsa': '÷',\n",
       " 'SDSOO2345': '(',\n",
       " 'XFG(((06/': '‘',\n",
       " 'SFD678&/h': '“',\n",
       " 'siUYIU00==': ')',\n",
       " 'ksdfk&/(&%&/(&%': '’',\n",
       " 'jhkjb7&/(/': '”',\n",
       " 'hjsgdjhs=))^^^': '=',\n",
       " 'sdfdsbfPP': '≠',\n",
       " '//////': '≈',\n",
       " 'dsf0==65': '?',\n",
       " '7(//Y(RV': \"'\",\n",
       " 'w4tf5DS': '´',\n",
       " 'hjsjs)/&%/t': '¸',\n",
       " 'ashjdb&%&/(': '¡',\n",
       " 'skfyourmum': '˛',\n",
       " 'getTheFuckOut': '¿',\n",
       " 'sdfdsf==876': 'º',\n",
       " 'askdghello': 'ª',\n",
       " 'sjdfskhb8768': '\\\\',\n",
       " 'dfgfqweqwrkPPP': 'œ',\n",
       " 'dfgdfg??&/()': 'Œ',\n",
       " 'SFDL/FVSI': 'Æ',\n",
       " 'sdfds)(&uh)': '€',\n",
       " '¨Ñ;*PM;': '®',\n",
       " 'dfdsoi%&/(Yvb)': '†',\n",
       " 'sdf(/GBBI)': '‡',\n",
       " 'sdfdUYferna': 'ø',\n",
       " 'slsdfnBR()': 'Ø',\n",
       " 'sfnUTFUYV': 'π',\n",
       " 'dfgfdk)/(9)': '∏',\n",
       " 'knmvbonm898/(T)': 'å',\n",
       " 'sdfgh(GBOPIHJ)=': 'Å',\n",
       " 'OUIgh9iBNo': '∫',\n",
       " 'IUH(//GHHIOFS)': '∂',\n",
       " 'dfgdjih)(GB)': '∆',\n",
       " 'dsfmkliuKDS': 'ƒ',\n",
       " 'sdglknier454': 'ﬁ',\n",
       " '/%/%&&&&': '\\uf8ff',\n",
       " 'DFKLNN': 'ﬂ',\n",
       " 'df': 'æ',\n",
       " 'dfsfd==': '™',\n",
       " '012938924732': '¶',\n",
       " 'fgrhehw564????': '¯',\n",
       " '??¡¿¿???=?¿?': '§',\n",
       " '¿?¿?¿?¿?¿?¿?¿?': 'ˇ',\n",
       " 'sdfaefawfaef': '˘',\n",
       " '?**^¨LKHB': '~',\n",
       " 'sadsafPOJ': '˜',\n",
       " 'fsdfewfew2': 'Ω',\n",
       " 'wet4345g': '‹',\n",
       " 'asdasklkn': '∑',\n",
       " 'sdfowethou': '›',\n",
       " 'bfdgjhx': '©',\n",
       " 'ey5jnvgt': 'ß',\n",
       " 'ertugeb': '√',\n",
       " 'brye': '◊',\n",
       " '547vg': '˙',\n",
       " 'vr5y5683ijPHN': '˚',\n",
       " 'sct3eOOOOO': 'µ',\n",
       " 'sdgeOObICYR': '`',\n",
       " 'sdfdsUYTEUYV': '^',\n",
       " 'sdfsdº': '[',\n",
       " 'sdfsgoi': 'ˆ',\n",
       " 'sdfksjnkms': '*',\n",
       " 'sglsm,vsasf': '+',\n",
       " 'sdfvreyvd': ']',\n",
       " 'svayGRSETH·%': '±',\n",
       " 'dryvd<$TGº': '«',\n",
       " 'sdgr^^': '{',\n",
       " 'sdvGFeraof': '¨',\n",
       " 'JHeulia': '»',\n",
       " 'dfgvno))()': '}',\n",
       " 'sdgkemnio': ',',\n",
       " 'hdrkyfh59%/vsasf': '„',\n",
       " 'sdfger': ';',\n",
       " 'fthbfyhek': '…',\n",
       " 'rubtyn¨¨¨¨': '.',\n",
       " 'brui6': '-',\n",
       " 'rre': '–',\n",
       " 'getout': '—',\n",
       " 'byu6rjt': '_',\n",
       " 'ascscs': ' '}"
      ]
     },
     "execution_count": 23,
     "metadata": {},
     "output_type": "execute_result"
    }
   ],
   "source": [
    "hashes = {\n",
    "        '!': '2kj35bt',\n",
    "        '|': 'wfhb32+',\n",
    "        '\"': 'sdfdv24',\n",
    "        '@': '/(HJON',\n",
    "        '·': 'sdfdsvLLLLsdlf',\n",
    "        '#': 'dsfsfd%&/()',\n",
    "        'ı': 'dssdf)))p',\n",
    "        '˝': 'sdfsd¿¿¿¿',\n",
    "        '•': 'dfsdf//86',\n",
    "        '£': 'fdgdfgll23',\n",
    "        '$': 'sd44343',\n",
    "        '¢': 'xcvpp`**',\n",
    "        '%': '&&/%()',\n",
    "        '∞': 'dsfds%&/()',\n",
    "        '‰': 'sadsadasq',\n",
    "        '&': 'dsadaw',\n",
    "        '¬': '345345345',\n",
    "        '/': 'sds¿¿¿¿???',\n",
    "        '÷': 'AAsa',\n",
    "        '(': 'SDSOO2345',\n",
    "        '‘': 'XFG(((06/',\n",
    "        '“': 'SFD678&/h',\n",
    "        ')': 'siUYIU00==',\n",
    "        '’': 'ksdfk&/(&%&/(&%',\n",
    "        '”': 'jhkjb7&/(/',\n",
    "        '=': 'hjsgdjhs=))^^^',\n",
    "        '≠': 'sdfdsbfPP',\n",
    "        '≈': '//////',\n",
    "        '?': 'dsf0==65',\n",
    "        \"'\": '7(//Y(RV',\n",
    "        '´': 'sjd==s$$',\n",
    "        '¸': 'hjsjs)/&%/t',\n",
    "        '¡': 'ashjdb&%&/(',\n",
    "        '˛': 'skfyourmum',\n",
    "        '¿': 'getTheFuckOut',\n",
    "        'º': 'sdfdsf==876',\n",
    "        'ª': 'askdghello',\n",
    "        '\\\\': 'sjdfskhb8768',\n",
    "        'œ': 'dsfdL__Dfnsi',\n",
    "        'Œ': 'dfgdfg??&/()',\n",
    "        'œ': 'dfgfqweqwrkPPP',\n",
    "        'Æ': 'SFDL/FVSI',\n",
    "        '€': 'sdfds)(&uh)',\n",
    "        '®': '¨Ñ;*PM;',\n",
    "        '†': 'dfdsoi%&/(Yvb)',\n",
    "        '‡': 'sdf(/GBBI)',\n",
    "        'ø': 'sdfdUYferna',\n",
    "        'Ø': 'slsdfnBR()',\n",
    "        'π': 'sfnUTFUYV',\n",
    "        '∏': 'dfgfdk)/(9)',\n",
    "        'å': 'knmvbonm898/(T)',\n",
    "        'Å': 'sdfgh(GBOPIHJ)=',\n",
    "        '∫': 'OUIgh9iBNo',\n",
    "        '∂': 'IUH(//GHHIOFS)',\n",
    "        '∆': 'dfgdjih)(GB)',\n",
    "        'ƒ': 'dsfmkliuKDS',\n",
    "        'ﬁ': 'sdglknier454',\n",
    "        '': '/%/%&&&&',\n",
    "        'ﬂ': 'DFKLNN',\n",
    "        'æ': 'df',\n",
    "        '™': 'dfsfd==',\n",
    "        '¶': '012938924732',\n",
    "        '¯': 'fgrhehw564????',\n",
    "        '§': '??¡¿¿???=?¿?',\n",
    "        'ˇ': '¿?¿?¿?¿?¿?¿?¿?',\n",
    "        '˘': 'sdfaefawfaef',\n",
    "        '~': '?**^¨LKHB',\n",
    "        '˜': 'sadsafPOJ',\n",
    "        'Ω': 'fsdfewfew2',\n",
    "        '‹': 'wet4345g',\n",
    "        '∑': 'asdasklkn',\n",
    "        '›': 'sdfowethou',\n",
    "        '©': 'bfdgjhx',\n",
    "        'ß': 'ey5jnvgt',\n",
    "        '√': 'ertugeb',\n",
    "        '◊': 'brye',\n",
    "        '˙': '547vg',\n",
    "        '˚': 'vr5y5683ijPHN',\n",
    "        'µ': 'sct3eOOOOO',\n",
    "        '`': 'sdgeOObICYR',\n",
    "        '^': 'sdfdsUYTEUYV',\n",
    "        '[': 'sdfsdº',\n",
    "        'ˆ': 'sdfsgoi',\n",
    "        '*': 'sdfksjnkms',\n",
    "        '+': 'sglsm,vsasf',\n",
    "        ']': 'sdfvreyvd',\n",
    "        '±': 'svayGRSETH·%',\n",
    "        '´': 'w4tf5DS',\n",
    "        '«': 'dryvd<$TGº',\n",
    "        '{': 'sdgr^^',\n",
    "        '¨': 'sdvGFeraof',\n",
    "        '»': 'JHeulia',\n",
    "        '}': 'dfgvno))()',\n",
    "        ',': 'sdgkemnio',\n",
    "        '„': 'hdrkyfh59%/vsasf',\n",
    "        ';': 'sdfger',\n",
    "        '…': 'fthbfyhek',\n",
    "        '.': 'rubtyn¨¨¨¨',\n",
    "        '-': 'brui6',\n",
    "        '–': 'rre',\n",
    "        '—': 'getout',\n",
    "        '_': 'byu6rjt',\n",
    "        ' ': 'ascscs',\n",
    "        }\n",
    "\n",
    "changed = {}\n",
    "\n",
    "for k, v in hashes.items():\n",
    "    changed[v] = k\n",
    "\n",
    "changed"
   ]
  },
  {
   "cell_type": "code",
   "execution_count": 28,
   "id": "438b1595",
   "metadata": {},
   "outputs": [
    {
     "name": "stdout",
     "output_type": "stream",
     "text": [
      "he\n"
     ]
    }
   ],
   "source": [
    "b = '__he'\n",
    "print(b[2:])"
   ]
  },
  {
   "cell_type": "code",
   "execution_count": null,
   "id": "5a6f4ec2",
   "metadata": {},
   "outputs": [],
   "source": []
  }
 ],
 "metadata": {
  "kernelspec": {
   "display_name": "Python 3 (ipykernel)",
   "language": "python",
   "name": "python3"
  },
  "language_info": {
   "codemirror_mode": {
    "name": "ipython",
    "version": 3
   },
   "file_extension": ".py",
   "mimetype": "text/x-python",
   "name": "python",
   "nbconvert_exporter": "python",
   "pygments_lexer": "ipython3",
   "version": "3.8.13"
  }
 },
 "nbformat": 4,
 "nbformat_minor": 5
}
